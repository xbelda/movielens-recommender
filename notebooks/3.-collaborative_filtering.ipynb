{
 "cells": [
  {
   "cell_type": "markdown",
   "id": "1531e32d-74ad-4078-a289-cf95cf6bea67",
   "metadata": {},
   "source": [
    "# Bibliography\n",
    "- [Collaborative Filtering for Movie Recommendations](https://keras.io/examples/structured_data/collaborative_filtering_movielens/)\n",
    "- [Getting Started with a Movie Recommendation System](https://www.kaggle.com/ibtesama/getting-started-with-a-movie-recommendation-system#Content-Based-Filtering)\n",
    "- [Collaborative Filtering in Pytorch](https://spiyer99.github.io/Recommendation-System-in-Pytorch/)"
   ]
  },
  {
   "cell_type": "code",
   "execution_count": 1,
   "id": "c5ceac6f-9d57-4cc0-9631-fe893561a952",
   "metadata": {},
   "outputs": [
    {
     "name": "stdout",
     "output_type": "stream",
     "text": [
      "/home/xavier/projects/movielens-recommender\n"
     ]
    }
   ],
   "source": [
    "cd .."
   ]
  },
  {
   "cell_type": "code",
   "execution_count": 2,
   "id": "eefb67b9-8c90-4cff-a28d-068f692aef08",
   "metadata": {},
   "outputs": [],
   "source": [
    "%load_ext autoreload\n",
    "%autoreload 2"
   ]
  },
  {
   "cell_type": "code",
   "execution_count": 3,
   "id": "c16a578c-9364-484a-927d-7657b4d3e92b",
   "metadata": {},
   "outputs": [],
   "source": [
    "import pandas as pd\n",
    "from tqdm import tqdm\n",
    "import torch\n",
    "from torch.utils.data import DataLoader\n",
    "import pytorch_lightning as pl\n",
    "\n",
    "from sklearn.preprocessing import MinMaxScaler\n",
    "from src.dataset import MovielensDataset\n",
    "from src.model import CollaborativeFiltering, LightningCollaborativeFiltering"
   ]
  },
  {
   "cell_type": "markdown",
   "id": "f872d9d3-aa6f-4755-a914-769615c23590",
   "metadata": {},
   "source": [
    "# Data"
   ]
  },
  {
   "cell_type": "code",
   "execution_count": 4,
   "id": "1b9d207c-2743-4857-947d-16e640a954bd",
   "metadata": {},
   "outputs": [],
   "source": [
    "ratings = pd.read_parquet(\"./data/processed/ratings.parquet\")"
   ]
  },
  {
   "cell_type": "code",
   "execution_count": 5,
   "id": "7c5845f1-3cc9-4bcd-a050-e9c339f82ead",
   "metadata": {},
   "outputs": [
    {
     "data": {
      "text/html": [
       "<div>\n",
       "<style scoped>\n",
       "    .dataframe tbody tr th:only-of-type {\n",
       "        vertical-align: middle;\n",
       "    }\n",
       "\n",
       "    .dataframe tbody tr th {\n",
       "        vertical-align: top;\n",
       "    }\n",
       "\n",
       "    .dataframe thead th {\n",
       "        text-align: right;\n",
       "    }\n",
       "</style>\n",
       "<table border=\"1\" class=\"dataframe\">\n",
       "  <thead>\n",
       "    <tr style=\"text-align: right;\">\n",
       "      <th></th>\n",
       "      <th>UserID</th>\n",
       "      <th>MovieID</th>\n",
       "      <th>Rating</th>\n",
       "      <th>Timestamp</th>\n",
       "    </tr>\n",
       "  </thead>\n",
       "  <tbody>\n",
       "    <tr>\n",
       "      <th>0</th>\n",
       "      <td>1</td>\n",
       "      <td>1193</td>\n",
       "      <td>5</td>\n",
       "      <td>978300760</td>\n",
       "    </tr>\n",
       "    <tr>\n",
       "      <th>1</th>\n",
       "      <td>1</td>\n",
       "      <td>661</td>\n",
       "      <td>3</td>\n",
       "      <td>978302109</td>\n",
       "    </tr>\n",
       "    <tr>\n",
       "      <th>2</th>\n",
       "      <td>1</td>\n",
       "      <td>914</td>\n",
       "      <td>3</td>\n",
       "      <td>978301968</td>\n",
       "    </tr>\n",
       "    <tr>\n",
       "      <th>3</th>\n",
       "      <td>1</td>\n",
       "      <td>3408</td>\n",
       "      <td>4</td>\n",
       "      <td>978300275</td>\n",
       "    </tr>\n",
       "    <tr>\n",
       "      <th>4</th>\n",
       "      <td>1</td>\n",
       "      <td>2355</td>\n",
       "      <td>5</td>\n",
       "      <td>978824291</td>\n",
       "    </tr>\n",
       "  </tbody>\n",
       "</table>\n",
       "</div>"
      ],
      "text/plain": [
       "   UserID  MovieID  Rating  Timestamp\n",
       "0       1     1193       5  978300760\n",
       "1       1      661       3  978302109\n",
       "2       1      914       3  978301968\n",
       "3       1     3408       4  978300275\n",
       "4       1     2355       5  978824291"
      ]
     },
     "execution_count": 5,
     "metadata": {},
     "output_type": "execute_result"
    }
   ],
   "source": [
    "ratings.head()"
   ]
  },
  {
   "cell_type": "markdown",
   "id": "93d043c5-af59-4e75-ba4b-94557d6b6e0a",
   "metadata": {},
   "source": [
    "# Train/Val split\n",
    "Since we want to predict future recommendations in our recommender, we will split according to date."
   ]
  },
  {
   "cell_type": "code",
   "execution_count": 6,
   "id": "a7a9b24b-1bab-46ab-baf1-955b01808cee",
   "metadata": {},
   "outputs": [],
   "source": [
    "q_timestamp = ratings[\"Timestamp\"].quantile(0.8)\n",
    "\n",
    "train_idx = ratings[\"Timestamp\"] < q_timestamp\n",
    "val_idx = ratings[\"Timestamp\"] >= q_timestamp"
   ]
  },
  {
   "cell_type": "code",
   "execution_count": 7,
   "id": "0ec9fab8-3a3d-4006-8d67-8e547925f57a",
   "metadata": {},
   "outputs": [],
   "source": [
    "train_ratings = ratings[train_idx].copy()\n",
    "val_ratings = ratings[val_idx].copy()"
   ]
  },
  {
   "cell_type": "code",
   "execution_count": 8,
   "id": "77ae7fa4-9d7c-4110-bfcf-1a9bffe6a949",
   "metadata": {},
   "outputs": [
    {
     "data": {
      "text/plain": [
       "(800164, 4)"
      ]
     },
     "execution_count": 8,
     "metadata": {},
     "output_type": "execute_result"
    }
   ],
   "source": [
    "train_ratings.shape"
   ]
  },
  {
   "cell_type": "code",
   "execution_count": 9,
   "id": "644a3d58-f7ac-41a7-8d14-6cf7423cdef4",
   "metadata": {},
   "outputs": [
    {
     "data": {
      "text/plain": [
       "(200045, 4)"
      ]
     },
     "execution_count": 9,
     "metadata": {},
     "output_type": "execute_result"
    }
   ],
   "source": [
    "val_ratings.shape"
   ]
  },
  {
   "cell_type": "markdown",
   "id": "0a68003f-3e91-4223-a13e-a5c52abc8d98",
   "metadata": {
    "tags": []
   },
   "source": [
    "# Scaling"
   ]
  },
  {
   "cell_type": "code",
   "execution_count": 10,
   "id": "0e781655-cd4f-4b90-a648-37087a8e3cc8",
   "metadata": {},
   "outputs": [
    {
     "data": {
      "text/plain": [
       "MinMaxScaler()"
      ]
     },
     "execution_count": 10,
     "metadata": {},
     "output_type": "execute_result"
    }
   ],
   "source": [
    "scaler = MinMaxScaler()\n",
    "scaler.fit(train_ratings[[\"Rating\"]])"
   ]
  },
  {
   "cell_type": "code",
   "execution_count": 11,
   "id": "0f003314-6ff6-4742-ae43-1327e553e9f1",
   "metadata": {},
   "outputs": [],
   "source": [
    "train_ratings[\"ScaledRating\"] = scaler.transform(train_ratings[[\"Rating\"]]).flatten()\n",
    "val_ratings[\"ScaledRating\"] = scaler.transform(val_ratings[[\"Rating\"]]).flatten()"
   ]
  },
  {
   "cell_type": "markdown",
   "id": "608226b4-660e-4f57-8c05-1dd0ff8627f5",
   "metadata": {},
   "source": [
    "# Dtypes"
   ]
  },
  {
   "cell_type": "code",
   "execution_count": 12,
   "id": "87bb51cc-0c6f-4cfd-aacb-20fb5cfa7a1b",
   "metadata": {},
   "outputs": [],
   "source": [
    "# Convert Dtypes to Int32\n",
    "ratings = ratings.astype(\"Int32\")"
   ]
  },
  {
   "cell_type": "markdown",
   "id": "72c760a5-9419-4420-ad34-d47ea93c4996",
   "metadata": {},
   "source": [
    "# Datasets"
   ]
  },
  {
   "cell_type": "code",
   "execution_count": 13,
   "id": "3a0b9862-b251-482b-a5b2-5f3f0d3a7a28",
   "metadata": {},
   "outputs": [],
   "source": [
    "BATCH_SIZE = 128\n",
    "EMBEDDING_DIM = 20"
   ]
  },
  {
   "cell_type": "code",
   "execution_count": 14,
   "id": "96dea0e9-09c8-42d1-9de9-97617586fd1d",
   "metadata": {},
   "outputs": [],
   "source": [
    "# TODO: Split train/val by date\n",
    "\n",
    "train_dataset = MovielensDataset(data=train_ratings)\n",
    "val_dataset = MovielensDataset(data=val_ratings)\n",
    "\n",
    "train_dataloader = DataLoader(train_dataset, batch_size=BATCH_SIZE, shuffle=True, num_workers=4, pin_memory=True)\n",
    "val_dataloader = DataLoader(val_dataset, batch_size=BATCH_SIZE, shuffle=False, num_workers=4, pin_memory=True)"
   ]
  },
  {
   "cell_type": "code",
   "execution_count": 15,
   "id": "3d65a49d-7c8b-4488-a06a-f5e9d3375f78",
   "metadata": {},
   "outputs": [],
   "source": [
    "model = CollaborativeFiltering(num_users=train_dataset.num_users, num_movies=train_dataset.num_movies, embedding_dim=EMBEDDING_DIM)"
   ]
  },
  {
   "cell_type": "code",
   "execution_count": 16,
   "id": "7b417b02-5adb-4356-8aa6-1a295b8fcdc9",
   "metadata": {},
   "outputs": [
    {
     "name": "stderr",
     "output_type": "stream",
     "text": [
      "GPU available: True, used: True\n",
      "TPU available: False, using: 0 TPU cores\n",
      "IPU available: False, using: 0 IPUs\n",
      "LOCAL_RANK: 0 - CUDA_VISIBLE_DEVICES: [0]\n",
      "\n",
      "  | Name  | Type                   | Params\n",
      "-------------------------------------------------\n",
      "0 | model | CollaborativeFiltering | 190 K \n",
      "1 | loss  | MSELoss                | 0     \n",
      "-------------------------------------------------\n",
      "190 K     Trainable params\n",
      "0         Non-trainable params\n",
      "190 K     Total params\n",
      "0.761     Total estimated model params size (MB)\n"
     ]
    },
    {
     "name": "stdout",
     "output_type": "stream",
     "text": [
      "                                                                                                         "
     ]
    },
    {
     "name": "stderr",
     "output_type": "stream",
     "text": [
      "/home/xavier/.cache/pypoetry/virtualenvs/imdb-recommender-SIHN6QTU-py3.9/lib/python3.9/site-packages/torch/nn/modules/loss.py:520: UserWarning: Using a target size (torch.Size([128])) that is different to the input size (torch.Size([128, 128])). This will likely lead to incorrect results due to broadcasting. Please ensure they have the same size.\n",
      "  return F.mse_loss(input, target, reduction=self.reduction)\n"
     ]
    },
    {
     "name": "stdout",
     "output_type": "stream",
     "text": [
      "Epoch 0:  80%|█████████████████████████▌      | 6252/7815 [00:33<00:08, 185.94it/s, loss=0.0935, v_num=0]"
     ]
    },
    {
     "name": "stderr",
     "output_type": "stream",
     "text": [
      "/home/xavier/.cache/pypoetry/virtualenvs/imdb-recommender-SIHN6QTU-py3.9/lib/python3.9/site-packages/torch/nn/modules/loss.py:520: UserWarning: Using a target size (torch.Size([36])) that is different to the input size (torch.Size([36, 36])). This will likely lead to incorrect results due to broadcasting. Please ensure they have the same size.\n",
      "  return F.mse_loss(input, target, reduction=self.reduction)\n"
     ]
    },
    {
     "name": "stdout",
     "output_type": "stream",
     "text": [
      "\n",
      "Validating: 0it [00:00, ?it/s]\u001b[A\n",
      "Validating:   0%|                                                               | 0/1563 [00:00<?, ?it/s]\u001b[A\n",
      "Epoch 0:  80%|█████████████████████████▋      | 6269/7815 [00:33<00:08, 185.49it/s, loss=0.0935, v_num=0]\u001b[A\n",
      "Epoch 0:  81%|█████████████████████████▉      | 6320/7815 [00:33<00:08, 186.45it/s, loss=0.0935, v_num=0]\u001b[A\n",
      "Epoch 0:  82%|██████████████████████████      | 6371/7815 [00:34<00:07, 187.38it/s, loss=0.0935, v_num=0]\u001b[A\n",
      "Epoch 0:  82%|██████████████████████████▎     | 6422/7815 [00:34<00:07, 188.32it/s, loss=0.0935, v_num=0]\u001b[A\n",
      "Epoch 0:  83%|██████████████████████████▌     | 6473/7815 [00:34<00:07, 189.16it/s, loss=0.0935, v_num=0]\u001b[A\n",
      "Epoch 0:  83%|██████████████████████████▋     | 6524/7815 [00:34<00:06, 189.98it/s, loss=0.0935, v_num=0]\u001b[A\n",
      "Epoch 0:  84%|██████████████████████████▉     | 6575/7815 [00:34<00:06, 190.85it/s, loss=0.0935, v_num=0]\u001b[A\n",
      "Validating:  21%|██████████▉                                         | 329/1563 [00:00<00:02, 433.86it/s]\u001b[A\n",
      "Epoch 0:  85%|███████████████████████████▏    | 6626/7815 [00:34<00:06, 191.66it/s, loss=0.0935, v_num=0]\u001b[A\n",
      "Epoch 0:  85%|███████████████████████████▎    | 6677/7815 [00:34<00:05, 192.46it/s, loss=0.0935, v_num=0]\u001b[A\n",
      "Epoch 0:  86%|███████████████████████████▌    | 6728/7815 [00:34<00:05, 193.37it/s, loss=0.0935, v_num=0]\u001b[A\n",
      "Epoch 0:  87%|███████████████████████████▊    | 6779/7815 [00:34<00:05, 194.18it/s, loss=0.0935, v_num=0]\u001b[A\n",
      "Epoch 0:  87%|███████████████████████████▉    | 6831/7815 [00:35<00:05, 195.10it/s, loss=0.0935, v_num=0]\u001b[A\n",
      "Epoch 0:  88%|████████████████████████████▏   | 6883/7815 [00:35<00:04, 196.01it/s, loss=0.0935, v_num=0]\u001b[A\n",
      "Epoch 0:  89%|████████████████████████████▍   | 6935/7815 [00:35<00:04, 196.89it/s, loss=0.0935, v_num=0]\u001b[A\n",
      "Epoch 0:  89%|████████████████████████████▌   | 6987/7815 [00:35<00:04, 197.72it/s, loss=0.0935, v_num=0]\u001b[A\n",
      "Epoch 0:  90%|████████████████████████████▊   | 7039/7815 [00:35<00:03, 198.61it/s, loss=0.0935, v_num=0]\u001b[A\n",
      "Epoch 0:  91%|█████████████████████████████   | 7091/7815 [00:35<00:03, 199.43it/s, loss=0.0935, v_num=0]\u001b[A\n",
      "Epoch 0:  91%|█████████████████████████████▏  | 7143/7815 [00:35<00:03, 200.23it/s, loss=0.0935, v_num=0]\u001b[A\n",
      "Epoch 0:  92%|█████████████████████████████▍  | 7195/7815 [00:35<00:03, 201.01it/s, loss=0.0935, v_num=0]\u001b[A\n",
      "Epoch 0:  93%|█████████████████████████████▋  | 7247/7815 [00:35<00:02, 201.79it/s, loss=0.0935, v_num=0]\u001b[A\n",
      "Validating:  64%|█████████████████████████████████▏                  | 997/1563 [00:02<00:01, 442.76it/s]\u001b[A\n",
      "Epoch 0:  93%|█████████████████████████████▉  | 7299/7815 [00:36<00:02, 202.46it/s, loss=0.0935, v_num=0]\u001b[A\n",
      "Epoch 0:  94%|██████████████████████████████  | 7351/7815 [00:36<00:02, 203.25it/s, loss=0.0935, v_num=0]\u001b[A\n",
      "Epoch 0:  95%|██████████████████████████████▎ | 7403/7815 [00:36<00:02, 204.04it/s, loss=0.0935, v_num=0]\u001b[A\n",
      "Epoch 0:  95%|██████████████████████████████▌ | 7455/7815 [00:36<00:01, 204.74it/s, loss=0.0935, v_num=0]\u001b[A\n",
      "Epoch 0:  96%|██████████████████████████████▋ | 7507/7815 [00:36<00:01, 205.49it/s, loss=0.0935, v_num=0]\u001b[A\n",
      "Epoch 0:  97%|██████████████████████████████▉ | 7559/7815 [00:36<00:01, 206.21it/s, loss=0.0935, v_num=0]\u001b[A\n",
      "Validating:  84%|██████████████████████████████████████████▋        | 1309/1563 [00:03<00:00, 425.00it/s]\u001b[A\n",
      "Epoch 0:  97%|███████████████████████████████▏| 7611/7815 [00:36<00:00, 207.00it/s, loss=0.0935, v_num=0]\u001b[A\n",
      "Epoch 0:  98%|███████████████████████████████▍| 7663/7815 [00:36<00:00, 207.75it/s, loss=0.0935, v_num=0]\u001b[A\n",
      "Epoch 0:  99%|███████████████████████████████▌| 7715/7815 [00:37<00:00, 208.46it/s, loss=0.0935, v_num=0]\u001b[A\n",
      "Epoch 0:  99%|███████████████████████████████▊| 7767/7815 [00:37<00:00, 209.20it/s, loss=0.0935, v_num=0]\u001b[A\n",
      "Epoch 0: 100%|████████████████████████████████| 7815/7815 [00:37<00:00, 209.65it/s, loss=0.0935, v_num=0]\u001b[A\n",
      "Epoch 1:   0%|                                            | 0/7815 [00:00<?, ?it/s, loss=0.0935, v_num=0]\u001b[A"
     ]
    },
    {
     "name": "stderr",
     "output_type": "stream",
     "text": [
      "/home/xavier/.cache/pypoetry/virtualenvs/imdb-recommender-SIHN6QTU-py3.9/lib/python3.9/site-packages/torch/nn/modules/loss.py:520: UserWarning: Using a target size (torch.Size([109])) that is different to the input size (torch.Size([109, 109])). This will likely lead to incorrect results due to broadcasting. Please ensure they have the same size.\n",
      "  return F.mse_loss(input, target, reduction=self.reduction)\n"
     ]
    },
    {
     "name": "stdout",
     "output_type": "stream",
     "text": [
      "Epoch 1:  43%|██████████████▏                  | 3351/7815 [00:19<00:25, 175.32it/s, loss=0.074, v_num=0]"
     ]
    },
    {
     "name": "stderr",
     "output_type": "stream",
     "text": [
      "/home/xavier/.cache/pypoetry/virtualenvs/imdb-recommender-SIHN6QTU-py3.9/lib/python3.9/site-packages/pytorch_lightning/trainer/trainer.py:685: UserWarning: Detected KeyboardInterrupt, attempting graceful shutdown...\n",
      "  rank_zero_warn(\"Detected KeyboardInterrupt, attempting graceful shutdown...\")\n",
      "Exception in thread Thread-13:\n",
      "Traceback (most recent call last):\n",
      "  File \"/home/xavier/miniconda3/envs/py3.9/lib/python3.9/threading.py\", line 973, in _bootstrap_inner\n",
      "    self.run()\n",
      "  File \"/home/xavier/miniconda3/envs/py3.9/lib/python3.9/threading.py\", line 910, in run\n",
      "    self._target(*self._args, **self._kwargs)\n",
      "  File \"/home/xavier/.cache/pypoetry/virtualenvs/imdb-recommender-SIHN6QTU-py3.9/lib/python3.9/site-packages/torch/utils/data/_utils/pin_memory.py\", line 28, in _pin_memory_loop\n",
      "    r = in_queue.get(timeout=MP_STATUS_CHECK_INTERVAL)\n",
      "  File \"/home/xavier/miniconda3/envs/py3.9/lib/python3.9/multiprocessing/queues.py\", line 122, in get\n",
      "    return _ForkingPickler.loads(res)\n",
      "  File \"/home/xavier/.cache/pypoetry/virtualenvs/imdb-recommender-SIHN6QTU-py3.9/lib/python3.9/site-packages/torch/multiprocessing/reductions.py\", line 289, in rebuild_storage_fd\n",
      "    fd = df.detach()\n",
      "  File \"/home/xavier/miniconda3/envs/py3.9/lib/python3.9/multiprocessing/resource_sharer.py\", line 57, in detach\n",
      "    with _resource_sharer.get_connection(self._id) as conn:\n",
      "  File \"/home/xavier/miniconda3/envs/py3.9/lib/python3.9/multiprocessing/resource_sharer.py\", line 86, in get_connection\n",
      "    c = Client(address, authkey=process.current_process().authkey)\n",
      "  File \"/home/xavier/miniconda3/envs/py3.9/lib/python3.9/multiprocessing/connection.py\", line 513, in Client\n",
      "    answer_challenge(c, authkey)\n",
      "  File \"/home/xavier/miniconda3/envs/py3.9/lib/python3.9/multiprocessing/connection.py\", line 762, in answer_challenge\n",
      "    response = connection.recv_bytes(256)        # reject large message\n",
      "  File \"/home/xavier/miniconda3/envs/py3.9/lib/python3.9/multiprocessing/connection.py\", line 221, in recv_bytes\n",
      "    buf = self._recv_bytes(maxlength)\n",
      "  File \"/home/xavier/miniconda3/envs/py3.9/lib/python3.9/multiprocessing/connection.py\", line 419, in _recv_bytes\n",
      "    buf = self._recv(4)\n",
      "  File \"/home/xavier/miniconda3/envs/py3.9/lib/python3.9/multiprocessing/connection.py\", line 384, in _recv\n",
      "    chunk = read(handle, remaining)\n",
      "ConnectionResetError: [Errno 104] Connection reset by peer\n"
     ]
    },
    {
     "name": "stdout",
     "output_type": "stream",
     "text": [
      "Epoch 1:  43%|██████████████▏                  | 3351/7815 [00:32<00:43, 103.01it/s, loss=0.074, v_num=0]"
     ]
    }
   ],
   "source": [
    "trainer = pl.Trainer(max_epochs=10, gpus=1)\n",
    "pl_model = LightningCollaborativeFiltering(model)\n",
    "trainer.fit(pl_model, train_dataloaders=train_dataloader, val_dataloaders=val_dataloader)"
   ]
  },
  {
   "cell_type": "code",
   "execution_count": null,
   "id": "a28a6e6e-e39b-4297-a21b-280cd7918f67",
   "metadata": {},
   "outputs": [],
   "source": []
  }
 ],
 "metadata": {
  "jupytext": {
   "formats": "ipynb,auto:light"
  },
  "kernelspec": {
   "display_name": "Python 3 (ipykernel)",
   "language": "python",
   "name": "python3"
  },
  "language_info": {
   "codemirror_mode": {
    "name": "ipython",
    "version": 3
   },
   "file_extension": ".py",
   "mimetype": "text/x-python",
   "name": "python",
   "nbconvert_exporter": "python",
   "pygments_lexer": "ipython3",
   "version": "3.9.7"
  }
 },
 "nbformat": 4,
 "nbformat_minor": 5
}
